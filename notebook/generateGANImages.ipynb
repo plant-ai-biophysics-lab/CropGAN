{
 "cells": [
  {
   "cell_type": "code",
   "execution_count": 9,
   "id": "bf447259",
   "metadata": {},
   "outputs": [
    {
     "name": "stdout",
     "output_type": "stream",
     "text": [
      "The autoreload extension is already loaded. To reload it, use:\n",
      "  %reload_ext autoreload\n"
     ]
    }
   ],
   "source": [
    "import numpy as np\n",
    "import matplotlib.pyplot as plt\n",
    "import matplotlib.patches as patches\n",
    "import cv2 as cv\n",
    "import glob\n",
    "import sys\n",
    "import os\n",
    "import copy\n",
    "import argparse\n",
    "import random\n",
    "import tqdm\n",
    "import time\n",
    "from PIL import Image\n",
    "import shutil\n",
    "import subprocess\n",
    "from multiprocessing import Pool\n",
    "\n",
    "import torch\n",
    "from torch.autograd import Variable\n",
    "\n",
    "\n",
    "np.set_printoptions(suppress=True)\n",
    "%load_ext autoreload\n",
    "%autoreload 2\n",
    "%matplotlib inline\n",
    "plt.rcParams['figure.figsize'] = [15, 8]"
   ]
  },
  {
   "cell_type": "code",
   "execution_count": null,
   "id": "370598b1",
   "metadata": {},
   "outputs": [],
   "source": []
  },
  {
   "cell_type": "code",
   "execution_count": 10,
   "id": "b7883fe6",
   "metadata": {},
   "outputs": [],
   "source": [
    "# Import Crop GAN related libs\n",
    "gan_dir = os.path.abspath(\"../src/\")\n",
    "sys.path.append(gan_dir)\n",
    "from options.train_options import TrainOptions\n",
    "# from options.test_options import TestOptions\n",
    "\n",
    "from data import create_dataset\n",
    "from models import create_model\n",
    "import util.util_yolo as util_yolo\n",
    "from models.yolo_model import Darknet\n",
    "import util.util as utils\n",
    "from util.dataset_yolo import ListDataset\n"
   ]
  },
  {
   "cell_type": "code",
   "execution_count": null,
   "id": "367fa5e5",
   "metadata": {},
   "outputs": [],
   "source": []
  },
  {
   "cell_type": "code",
   "execution_count": 11,
   "id": "3d6c8ddb",
   "metadata": {},
   "outputs": [
    {
     "name": "stdout",
     "output_type": "stream",
     "text": [
      "model_name:  double_task_cycle_gan\n",
      "parse_notebook model_name:  double_task_cycle_gan\n",
      "----------------- Options ---------------\n",
      "               batch_size: 1                             \n",
      "                    beta1: 0.5                           \n",
      "          checkpoints_dir: /Users/holly/Desktop/CropGANData/model/\t[default: ./checkpoints]\n",
      "           continue_train: False                         \n",
      "                crop_size: 256                           \n",
      "          cycle_gan_epoch: 10                            \n",
      "                 dataroot: /Users/holly/Desktop/CropGANData/model/\t[default: None]\n",
      "             dataset_mode: yolo_task_reverse             \t[default: unaligned]\n",
      "                direction: AtoB                          \n",
      "              display_env: main                          \n",
      "             display_freq: 400                           \n",
      "               display_id: -1                            \t[default: 1]\n",
      "            display_ncols: 4                             \n",
      "             display_port: 8097                          \n",
      "           display_server: http://localhost              \n",
      "          display_winsize: 256                           \n",
      "                    epoch: latest                        \n",
      "              epoch_count: 1                             \n",
      "               eval_model: None                          \n",
      "    fake_dataset_save_dir:                               \n",
      "                 gan_mode: lsgan                         \n",
      "                  gpu_ids: -1                            \t[default: 0]\n",
      "                init_gain: 0.02                          \n",
      "                init_type: normal                        \n",
      "                 input_nc: 3                             \n",
      "                  isTrain: True                          \t[default: None]\n",
      "                 lambda_A: 10.0                          \n",
      "                 lambda_B: 10.0                          \n",
      "          lambda_identity: 0.5                           \n",
      "            lambda_yolo_a: 0.0                           \n",
      "            lambda_yolo_b: 0.0                           \n",
      "                load_iter: 0                             \t[default: 0]\n",
      "                load_size: 256                           \t[default: 286]\n",
      "                       lr: 0.0002                        \n",
      "           lr_decay_iters: 50                            \n",
      "                lr_policy: linear                        \n",
      "         max_dataset_size: inf                           \n",
      "                    model: double_task_cycle_gan         \n",
      "                 n_epochs: 100                           \n",
      "           n_epochs_decay: 100                           \n",
      "               n_layers_D: 3                             \n",
      "                     name: Sythetic2bordenNight          \t[default: experiment_name]\n",
      "                      ndf: 64                            \n",
      "                     netD: basic                         \n",
      "                     netG: resnet_9blocks                \n",
      "                      ngf: 64                            \n",
      "               no_dropout: True                          \n",
      "                  no_flip: True                          \t[default: False]\n",
      "                  no_html: False                         \n",
      "                     norm: instance                      \n",
      "              num_threads: 0                             \t[default: 4]\n",
      "                output_nc: 3                             \n",
      "                    phase: train                         \n",
      "                pool_size: 50                            \n",
      "               preprocess: resize_and_crop               \n",
      "               print_freq: 100                           \n",
      "              random_view: 0                             \n",
      "       refine_yolo_b_step: 0                             \n",
      "             save_by_iter: False                         \n",
      "          save_epoch_freq: 5                             \n",
      "         save_latest_freq: 5000                          \n",
      "           serial_batches: False                         \n",
      "                   suffix:                               \n",
      "           task_model_def: ../src/config/yolov3-tiny.cfg \t[default: ./config/yolov3.cfg]\n",
      "                test_path:                               \n",
      "         update_html_freq: 1000                          \n",
      "          validation_path:                               \n",
      "                  verbose: False                         \n",
      "           yolo_a_weights:                               \n",
      "           yolo_b_weights:                               \n",
      "          yolo_batch_size: 4                             \n",
      "              yolo_epochs: 1                             \n",
      " yolo_eval_on_real_period: 500                           \n",
      "     yolo_evaluate_folder: None                          \n",
      "            yolo_img_size: 416                           \n",
      "               yolo_n_cpu: 8                             \n",
      "       yolo_one_shot_file: None                          \n",
      "          yolo_valid_path: None                          \n",
      "----------------- End -------------------\n"
     ]
    }
   ],
   "source": [
    "arguments = \"--model double_task_cycle_gan\\\n",
    "             --dataroot /Users/holly/Desktop/CropGANData/model/ \\\n",
    "             --name Sythetic2bordenNight\\\n",
    "             --dataset_mode yolo_task_reverse\\\n",
    "             --no_flip\\\n",
    "             --num_threads 0\\\n",
    "             --gpu_ids -1\\\n",
    "             --display_id -1\\\n",
    "             --preprocess resize_and_crop\\\n",
    "             --load_size 256\\\n",
    "             --crop_size 256\\\n",
    "             --batch_size 1 \\\n",
    "             --checkpoints_dir /Users/holly/Desktop/CropGANData/model/ \\\n",
    "             --task_model_def ../src/config/yolov3-tiny.cfg\" \n",
    "\n",
    "opt = TrainOptions().parse_notebook(arguments.split())"
   ]
  },
  {
   "cell_type": "code",
   "execution_count": 12,
   "id": "3607154f",
   "metadata": {},
   "outputs": [
    {
     "name": "stdout",
     "output_type": "stream",
     "text": [
      "Init Resnet ... \n",
      "input_nc:  3\n",
      "output_nc:  3\n",
      "ngf:  64\n",
      "n_blocks:  9\n",
      "initialize network with normal\n",
      "Init Resnet ... \n",
      "input_nc:  3\n",
      "output_nc:  3\n",
      "ngf:  64\n",
      "n_blocks:  9\n",
      "initialize network with normal\n",
      "initialize network with normal\n",
      "initialize network with normal\n",
      "\n",
      "Initializing YOLO network ... \n",
      "YOLO Device:  cpu\n",
      "No yolo a weights loaded \n",
      "No yolo b weights loaded \n",
      "model [DoubleTaskCycleGanModel] was created\n",
      "---------- Networks initialized -------------\n",
      "[Network G_A] Total number of parameters : 11.378 M\n",
      "[Network G_B] Total number of parameters : 11.378 M\n",
      "[Network D_A] Total number of parameters : 2.765 M\n",
      "[Network D_B] Total number of parameters : 2.765 M\n",
      "[Network YoloA] Total number of parameters : 8.852 M\n",
      "[Network YoloB] Total number of parameters : 8.852 M\n",
      "-----------------------------------------------\n"
     ]
    }
   ],
   "source": [
    "model = create_model(opt)      # create a model given opt.model and other options\n",
    "model.setup(opt)               # regular setup: load and print networks; create schedulers\n",
    "model.eval()\n"
   ]
  },
  {
   "cell_type": "code",
   "execution_count": 14,
   "id": "b2e67c8d",
   "metadata": {},
   "outputs": [
    {
     "name": "stdout",
     "output_type": "stream",
     "text": [
      "loading the model from /Users/holly/Desktop/CropGANData/model/Sythetic2bordenNight/latest_net_G_A.pth\n",
      "loading the model from /Users/holly/Desktop/CropGANData/model/Sythetic2bordenNight/latest_net_G_B.pth\n"
     ]
    }
   ],
   "source": [
    "load_suffix = \"/Users/holly/Desktop/CropGANData/model/Sythetic2bordenNight/latest\"\n",
    "model.load_networks_from_folder(load_suffix)"
   ]
  },
  {
   "cell_type": "code",
   "execution_count": null,
   "id": "ebefde78",
   "metadata": {},
   "outputs": [],
   "source": []
  },
  {
   "cell_type": "code",
   "execution_count": null,
   "id": "f5f2a512",
   "metadata": {},
   "outputs": [],
   "source": []
  }
 ],
 "metadata": {
  "kernelspec": {
   "display_name": "Python 3",
   "language": "python",
   "name": "python3"
  },
  "language_info": {
   "codemirror_mode": {
    "name": "ipython",
    "version": 3
   },
   "file_extension": ".py",
   "mimetype": "text/x-python",
   "name": "python",
   "nbconvert_exporter": "python",
   "pygments_lexer": "ipython3",
   "version": "3.8.8"
  }
 },
 "nbformat": 4,
 "nbformat_minor": 5
}
