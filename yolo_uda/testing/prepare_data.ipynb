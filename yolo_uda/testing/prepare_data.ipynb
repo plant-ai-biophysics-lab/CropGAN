{
 "cells": [
  {
   "cell_type": "code",
   "execution_count": 1,
   "metadata": {},
   "outputs": [],
   "source": [
    "import os"
   ]
  },
  {
   "cell_type": "code",
   "execution_count": 2,
   "metadata": {},
   "outputs": [
    {
     "name": "stdout",
     "output_type": "stream",
     "text": [
      "File paths have been saved to /group/jmearlesgrp/data/yolo_grl_data/BordenNight/source/train/train.txt\n"
     ]
    }
   ],
   "source": [
    "# Define the directory path\n",
    "directory_path = '/group/jmearlesgrp/data/yolo_grl_data/BordenNight/source/train/images'\n",
    "\n",
    "# Create a list to store the file paths\n",
    "file_paths = []\n",
    "\n",
    "# Loop through the files in the directory\n",
    "for filename in os.listdir(directory_path):\n",
    "    if filename.endswith('.jpg'):  # You can specify the file extension you want to include\n",
    "        file_path = os.path.join(directory_path, filename)\n",
    "        file_paths.append(file_path)\n",
    "\n",
    "# Define the path for the output text file\n",
    "output_file_path = '/group/jmearlesgrp/data/yolo_grl_data/BordenNight/source/train/train.txt'\n",
    "\n",
    "# Write the file paths to the output text file\n",
    "with open(output_file_path, 'w') as file:\n",
    "    for file_path in file_paths:\n",
    "        file.write(file_path + '\\n')\n",
    "\n",
    "print(f\"File paths have been saved to {output_file_path}\")"
   ]
  },
  {
   "cell_type": "code",
   "execution_count": 3,
   "metadata": {},
   "outputs": [
    {
     "name": "stdout",
     "output_type": "stream",
     "text": [
      "File paths have been saved to /group/jmearlesgrp/data/yolo_grl_data/BordenNight/source/val/val.txt\n"
     ]
    }
   ],
   "source": [
    "# Define the directory path\n",
    "directory_path = '/group/jmearlesgrp/data/yolo_grl_data/BordenNight/source/val/images'\n",
    "\n",
    "# Create a list to store the file paths\n",
    "file_paths = []\n",
    "\n",
    "# Loop through the files in the directory\n",
    "for filename in os.listdir(directory_path):\n",
    "    if filename.endswith('.jpg'):  # You can specify the file extension you want to include\n",
    "        file_path = os.path.join(directory_path, filename)\n",
    "        file_paths.append(file_path)\n",
    "\n",
    "# Define the path for the output text file\n",
    "output_file_path = '/group/jmearlesgrp/data/yolo_grl_data/BordenNight/source/val/val.txt'\n",
    "\n",
    "# Write the file paths to the output text file\n",
    "with open(output_file_path, 'w') as file:\n",
    "    for file_path in file_paths:\n",
    "        file.write(file_path + '\\n')\n",
    "\n",
    "print(f\"File paths have been saved to {output_file_path}\")"
   ]
  },
  {
   "cell_type": "code",
   "execution_count": 2,
   "metadata": {},
   "outputs": [
    {
     "name": "stdout",
     "output_type": "stream",
     "text": [
      "File paths have been saved to /group/jmearlesgrp/data/yolo_grl_data/BordenNight/target/target.txt\n"
     ]
    }
   ],
   "source": [
    "# Define the directory path\n",
    "directory_path = '/group/jmearlesgrp/data/yolo_grl_data/BordenNight/target/images'\n",
    "\n",
    "# Create a list to store the file paths\n",
    "file_paths = []\n",
    "\n",
    "# Loop through the files in the directory\n",
    "for filename in os.listdir(directory_path):\n",
    "    if filename.endswith('.jpg'):  # You can specify the file extension you want to include\n",
    "        file_path = os.path.join(directory_path, filename)\n",
    "        file_paths.append(file_path)\n",
    "\n",
    "# Define the path for the output text file\n",
    "output_file_path = '/group/jmearlesgrp/data/yolo_grl_data/BordenNight/target/target.txt'\n",
    "\n",
    "# Write the file paths to the output text file\n",
    "with open(output_file_path, 'w') as file:\n",
    "    for file_path in file_paths:\n",
    "        file.write(file_path + '\\n')\n",
    "\n",
    "print(f\"File paths have been saved to {output_file_path}\")"
   ]
  },
  {
   "cell_type": "code",
   "execution_count": null,
   "metadata": {},
   "outputs": [],
   "source": []
  }
 ],
 "metadata": {
  "kernelspec": {
   "display_name": "yolo-uda",
   "language": "python",
   "name": "python3"
  },
  "language_info": {
   "codemirror_mode": {
    "name": "ipython",
    "version": 3
   },
   "file_extension": ".py",
   "mimetype": "text/x-python",
   "name": "python",
   "nbconvert_exporter": "python",
   "pygments_lexer": "ipython3",
   "version": "3.9.18 (main, Sep 11 2023, 13:41:44) \n[GCC 11.2.0]"
  },
  "orig_nbformat": 4,
  "vscode": {
   "interpreter": {
    "hash": "d0260efa9996269a06c1dff44d5dce9e84fc8003d2759b53626bcf02bfd994e7"
   }
  }
 },
 "nbformat": 4,
 "nbformat_minor": 2
}
